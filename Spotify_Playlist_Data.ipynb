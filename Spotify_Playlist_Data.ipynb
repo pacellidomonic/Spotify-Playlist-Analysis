{
 "cells": [
  {
   "cell_type": "code",
   "execution_count": 2,
   "id": "11edfc0b",
   "metadata": {},
   "outputs": [],
   "source": [
    "import pandas as pd\n",
    "import spotipy\n",
    "from spotipy.oauth2 import SpotifyClientCredentials\n",
    "from sqlalchemy import create_engine\n",
    "import pyodbc"
   ]
  },
  {
   "cell_type": "code",
   "execution_count": 3,
   "id": "fb5f325d",
   "metadata": {},
   "outputs": [],
   "source": [
    "# Authentication\n",
    "auth_manager = SpotifyClientCredentials(client_id='id', client_secret='secret')\n",
    "sp = spotipy.Spotify(auth_manager=auth_manager)\n",
    "\n",
    "# Create connection to SQL server database\n",
    "Server = 'localHost'\n",
    "Database = 'local_db'\n",
    "Driver = 'ODBC Driver 17 for SQL Server'\n",
    "Database_Con = f'mssql://@{Server}/{Database}?driver={Driver}'\n",
    "engine = create_engine(Database_Con)\n",
    "con = engine.connect()"
   ]
  },
  {
   "cell_type": "code",
   "execution_count": null,
   "id": "d266a1b3",
   "metadata": {},
   "outputs": [],
   "source": [
    "# Prompt user to enter a Spotify user and one of their playlists\n",
    "spotify_playlist_user = input(\"Please enter a spotify playlist user: \")\n",
    "spotify_playlist_url = input(\"Please enter the URL for the user's playlist you want to analyze: \")"
   ]
  },
  {
   "cell_type": "code",
   "execution_count": null,
   "id": "9443f526",
   "metadata": {},
   "outputs": [],
   "source": [
    "# Split the playlist url to get the playlist code\n",
    "playlist_url_split_1 = spotify_playlist_url.split(\"/\")\n",
    "playlist_url_split_2 = playlist_url_split_1[4]\n",
    "playlist_url_split_2 = playlist_url_split_2.split(\"?\")\n",
    "playlist_code = playlist_url_split_2[0]\n",
    "\n",
    "print(playlist_code)"
   ]
  },
  {
   "cell_type": "code",
   "execution_count": null,
   "id": "957a4ea7",
   "metadata": {},
   "outputs": [],
   "source": [
    "def get_playlist(creator, playlist_id):\n",
    "    \n",
    "    # Create list of features to add as columns to dataframe\n",
    "    playlist_features_list = [\"artist\",\"album\",\"track_name\", \"track_id\",\n",
    "                              \"danceability\",\"energy\",\"key\",\"loudness\",\n",
    "                              \"mode\", \"speechiness\",\"instrumentalness\",\n",
    "                              \"liveness\",\"valence\",\"tempo\", \"duration_ms\",\n",
    "                              \"time_signature\"]\n",
    "    \n",
    "    # Create a playlist dataframe and add catagories for columns\n",
    "    playlist_df = pd.DataFrame(columns = playlist_features_list)\n",
    "    \n",
    "    # Loop through every track in the playlist, extract data and append the features to the playlist df\n",
    "    \n",
    "    playlist = sp.user_playlist_tracks(creator, playlist_id)[\"items\"]\n",
    "    for track in playlist:\n",
    "        # Create empty dictionary \n",
    "        playlist_data = {}\n",
    "        # Get playlist metadata\n",
    "        playlist_data[\"artist\"] = track[\"track\"][\"album\"][\"artists\"][0][\"name\"]\n",
    "        playlist_data[\"album\"] = track[\"track\"][\"album\"][\"name\"]\n",
    "        playlist_data[\"track_name\"] = track[\"track\"][\"name\"]\n",
    "        playlist_data[\"track_id\"] = track[\"track\"][\"id\"]\n",
    "        playlist_data[\"popularity\"] = track[\"track\"][\"popularity\"]\n",
    "        \n",
    "        # Get audio features\n",
    "        audio_features = sp.audio_features(playlist_data[\"track_id\"])[0]\n",
    "        for feature in playlist_features_list[4:]:\n",
    "            playlist_data[feature] = audio_features[feature]\n",
    "        \n",
    "        # Concat the dfs\n",
    "        track_df = pd.DataFrame(playlist_data, index = [0])\n",
    "        playlist_df = pd.concat([playlist_df, track_df], ignore_index = True)\n",
    "        \n",
    "    return playlist_df"
   ]
  },
  {
   "cell_type": "code",
   "execution_count": null,
   "id": "a734ce6f",
   "metadata": {},
   "outputs": [],
   "source": [
    "playlist = get_playlist(spotify_playlist_user, playlist_code)"
   ]
  },
  {
   "cell_type": "code",
   "execution_count": null,
   "id": "af2c44de",
   "metadata": {},
   "outputs": [],
   "source": [
    "pd.set_option('display.max_rows', 100)"
   ]
  },
  {
   "cell_type": "code",
   "execution_count": null,
   "id": "76e5ffec",
   "metadata": {},
   "outputs": [],
   "source": [
    "playlist"
   ]
  },
  {
   "cell_type": "code",
   "execution_count": null,
   "id": "643571d6",
   "metadata": {},
   "outputs": [],
   "source": [
    "playlist.to_sql('Playlist_Songs_Data', con=engine, if_exists='fail', index=False)"
   ]
  }
 ],
 "metadata": {
  "kernelspec": {
   "display_name": "Python 3 (ipykernel)",
   "language": "python",
   "name": "python3"
  },
  "language_info": {
   "codemirror_mode": {
    "name": "ipython",
    "version": 3
   },
   "file_extension": ".py",
   "mimetype": "text/x-python",
   "name": "python",
   "nbconvert_exporter": "python",
   "pygments_lexer": "ipython3",
   "version": "3.11.1"
  }
 },
 "nbformat": 4,
 "nbformat_minor": 5
}
